{
 "cells": [
  {
   "cell_type": "code",
   "execution_count": 16,
   "id": "351b8b8b",
   "metadata": {},
   "outputs": [
    {
     "name": "stdout",
     "output_type": "stream",
     "text": [
      "1002\n"
     ]
    },
    {
     "ename": "JavascriptException",
     "evalue": "Message: javascript error: Cannot read properties of undefined (reading 'series')\n  (Session info: headless chrome=111.0.5563.146)\nStacktrace:\nBacktrace:\n\t(No symbol) [0x009BDCE3]\n\t(No symbol) [0x009539D1]\n\t(No symbol) [0x00864DA8]\n\t(No symbol) [0x008676FB]\n\t(No symbol) [0x008675D0]\n\t(No symbol) [0x00867EB0]\n\t(No symbol) [0x008BDEED]\n\t(No symbol) [0x008AAECC]\n\t(No symbol) [0x008BD57C]\n\t(No symbol) [0x008AACC6]\n\t(No symbol) [0x00886F68]\n\t(No symbol) [0x008880CD]\n\tGetHandleVerifier [0x00C33832+2506274]\n\tGetHandleVerifier [0x00C69794+2727300]\n\tGetHandleVerifier [0x00C6E36C+2746716]\n\tGetHandleVerifier [0x00A66690+617600]\n\t(No symbol) [0x0095C712]\n\t(No symbol) [0x00961FF8]\n\t(No symbol) [0x009620DB]\n\t(No symbol) [0x0096C63B]\n\tBaseThreadInitThunk [0x762500F9+25]\n\tRtlGetAppContainerNamedObjectPath [0x77A87BBE+286]\n\tRtlGetAppContainerNamedObjectPath [0x77A87B8E+238]\n",
     "output_type": "error",
     "traceback": [
      "\u001b[1;31m---------------------------------------------------------------------------\u001b[0m",
      "\u001b[1;31mJavascriptException\u001b[0m                       Traceback (most recent call last)",
      "Cell \u001b[1;32mIn[16], line 37\u001b[0m\n\u001b[0;32m     33\u001b[0m browser\u001b[39m.\u001b[39mget(URL\u001b[39m+\u001b[39m\u001b[39mstr\u001b[39m(productid))\n\u001b[0;32m     35\u001b[0m \u001b[39m#get dates from price chart\u001b[39;00m\n\u001b[0;32m     36\u001b[0m \u001b[39m#date_data = browser.execute_script('return Highcharts.charts[0].series[0].data.map(x => x.category)')\u001b[39;00m\n\u001b[1;32m---> 37\u001b[0m date_data \u001b[39m=\u001b[39m browser\u001b[39m.\u001b[39;49mexecute_script(\u001b[39m'\u001b[39;49m\u001b[39mreturn Highcharts.charts[0].series\u001b[39;49m\u001b[39m'\u001b[39;49m)\n\u001b[0;32m     38\u001b[0m \u001b[39m#append year to date labels\u001b[39;00m\n\u001b[0;32m     39\u001b[0m date_data \u001b[39m=\u001b[39m [s \u001b[39m+\u001b[39m\u001b[39m'\u001b[39m\u001b[39m/2022\u001b[39m\u001b[39m'\u001b[39m \u001b[39mfor\u001b[39;00m s \u001b[39min\u001b[39;00m date_data]\n",
      "File \u001b[1;32mc:\\Users\\kamin\\AppData\\Local\\Programs\\Python\\Python311\\Lib\\site-packages\\selenium\\webdriver\\remote\\webdriver.py:500\u001b[0m, in \u001b[0;36mWebDriver.execute_script\u001b[1;34m(self, script, *args)\u001b[0m\n\u001b[0;32m    497\u001b[0m converted_args \u001b[39m=\u001b[39m \u001b[39mlist\u001b[39m(args)\n\u001b[0;32m    498\u001b[0m command \u001b[39m=\u001b[39m Command\u001b[39m.\u001b[39mW3C_EXECUTE_SCRIPT\n\u001b[1;32m--> 500\u001b[0m \u001b[39mreturn\u001b[39;00m \u001b[39mself\u001b[39;49m\u001b[39m.\u001b[39;49mexecute(command, {\u001b[39m\"\u001b[39;49m\u001b[39mscript\u001b[39;49m\u001b[39m\"\u001b[39;49m: script, \u001b[39m\"\u001b[39;49m\u001b[39margs\u001b[39;49m\u001b[39m\"\u001b[39;49m: converted_args})[\u001b[39m\"\u001b[39m\u001b[39mvalue\u001b[39m\u001b[39m\"\u001b[39m]\n",
      "File \u001b[1;32mc:\\Users\\kamin\\AppData\\Local\\Programs\\Python\\Python311\\Lib\\site-packages\\selenium\\webdriver\\remote\\webdriver.py:440\u001b[0m, in \u001b[0;36mWebDriver.execute\u001b[1;34m(self, driver_command, params)\u001b[0m\n\u001b[0;32m    438\u001b[0m response \u001b[39m=\u001b[39m \u001b[39mself\u001b[39m\u001b[39m.\u001b[39mcommand_executor\u001b[39m.\u001b[39mexecute(driver_command, params)\n\u001b[0;32m    439\u001b[0m \u001b[39mif\u001b[39;00m response:\n\u001b[1;32m--> 440\u001b[0m     \u001b[39mself\u001b[39;49m\u001b[39m.\u001b[39;49merror_handler\u001b[39m.\u001b[39;49mcheck_response(response)\n\u001b[0;32m    441\u001b[0m     response[\u001b[39m\"\u001b[39m\u001b[39mvalue\u001b[39m\u001b[39m\"\u001b[39m] \u001b[39m=\u001b[39m \u001b[39mself\u001b[39m\u001b[39m.\u001b[39m_unwrap_value(response\u001b[39m.\u001b[39mget(\u001b[39m\"\u001b[39m\u001b[39mvalue\u001b[39m\u001b[39m\"\u001b[39m, \u001b[39mNone\u001b[39;00m))\n\u001b[0;32m    442\u001b[0m     \u001b[39mreturn\u001b[39;00m response\n",
      "File \u001b[1;32mc:\\Users\\kamin\\AppData\\Local\\Programs\\Python\\Python311\\Lib\\site-packages\\selenium\\webdriver\\remote\\errorhandler.py:245\u001b[0m, in \u001b[0;36mErrorHandler.check_response\u001b[1;34m(self, response)\u001b[0m\n\u001b[0;32m    243\u001b[0m         alert_text \u001b[39m=\u001b[39m value[\u001b[39m\"\u001b[39m\u001b[39malert\u001b[39m\u001b[39m\"\u001b[39m]\u001b[39m.\u001b[39mget(\u001b[39m\"\u001b[39m\u001b[39mtext\u001b[39m\u001b[39m\"\u001b[39m)\n\u001b[0;32m    244\u001b[0m     \u001b[39mraise\u001b[39;00m exception_class(message, screen, stacktrace, alert_text)  \u001b[39m# type: ignore[call-arg]  # mypy is not smart enough here\u001b[39;00m\n\u001b[1;32m--> 245\u001b[0m \u001b[39mraise\u001b[39;00m exception_class(message, screen, stacktrace)\n",
      "\u001b[1;31mJavascriptException\u001b[0m: Message: javascript error: Cannot read properties of undefined (reading 'series')\n  (Session info: headless chrome=111.0.5563.146)\nStacktrace:\nBacktrace:\n\t(No symbol) [0x009BDCE3]\n\t(No symbol) [0x009539D1]\n\t(No symbol) [0x00864DA8]\n\t(No symbol) [0x008676FB]\n\t(No symbol) [0x008675D0]\n\t(No symbol) [0x00867EB0]\n\t(No symbol) [0x008BDEED]\n\t(No symbol) [0x008AAECC]\n\t(No symbol) [0x008BD57C]\n\t(No symbol) [0x008AACC6]\n\t(No symbol) [0x00886F68]\n\t(No symbol) [0x008880CD]\n\tGetHandleVerifier [0x00C33832+2506274]\n\tGetHandleVerifier [0x00C69794+2727300]\n\tGetHandleVerifier [0x00C6E36C+2746716]\n\tGetHandleVerifier [0x00A66690+617600]\n\t(No symbol) [0x0095C712]\n\t(No symbol) [0x00961FF8]\n\t(No symbol) [0x009620DB]\n\t(No symbol) [0x0096C63B]\n\tBaseThreadInitThunk [0x762500F9+25]\n\tRtlGetAppContainerNamedObjectPath [0x77A87BBE+286]\n\tRtlGetAppContainerNamedObjectPath [0x77A87B8E+238]\n"
     ]
    }
   ],
   "source": [
    "#install latest Chrome driver to your machine https://sites.google.com/chromium.org/driver/\n",
    "#install Beautiful Soup \n",
    "#install selenium\n",
    "\n",
    "#imports\n",
    "from bs4 import BeautifulSoup\n",
    "from selenium import webdriver\n",
    "import time\n",
    "import json \n",
    "from selenium.webdriver.chrome.service import Service\n",
    "\n",
    "#base product URL\n",
    "URL = \"https://e-katanalotis.gov.gr/product/\"\n",
    "min_id = 1002\n",
    "max_id = 1003\n",
    "\n",
    "#creates a list [min_id...max_id-1]\n",
    "productids = range(min_id, max_id)\n",
    "\n",
    "#final JSON\n",
    "results = {}\n",
    "results['fetch_date']=int(time.time())\n",
    "results['data']=[]\n",
    "\n",
    "#get product information\n",
    "for productid in productids:\n",
    "    print(productid)\n",
    "    options = webdriver.ChromeOptions()\n",
    "    options.add_argument('--headless')\n",
    "    # executable_path param is where the Chrome driver is installed\n",
    "    s=Service('Users\\kamin\\Downloads\\chromedriver_win32\\chromedriver')\n",
    "    browser = webdriver.Chrome(options=options, service = s)\n",
    "    browser.get(URL+str(productid))\n",
    "\n",
    "    #get dates from price chart\n",
    "    date_data = browser.execute_script('return Highcharts.charts[0].series[0].data.map(x => x.category)')\n",
    "    #append year to date labels\n",
    "    date_data = [s +'/2022' for s in date_data]\n",
    "\n",
    "    #get prices from price chart\n",
    "    price_data = browser.execute_script('return Highcharts.charts[0].series[0].data.map(x => x.y)')\n",
    "\n",
    "    #find product name\n",
    "    html = browser.page_source\n",
    "    soup = BeautifulSoup(html, features=\"html5lib\")\n",
    "\n",
    "    #test html rendering\n",
    "    #print(soup.prettify())\n",
    "\n",
    "    pname = soup.find('p', attrs={'class':'product-name'}).text \n",
    "    browser.quit()\n",
    "\n",
    "    #transform dates\n",
    "\n",
    "    for i in range(len(date_data)-1):\n",
    "        dparts = date_data[i].split(\"/\")\n",
    "        newd = '2022-'+dparts[1]+'-'+dparts[0]\n",
    "        date_data[i]=newd\n",
    "        \n",
    "    #create a result object\n",
    "    result = {}\n",
    "    result['id']=productid\n",
    "    result['name']=pname\n",
    "    result['prices']=[]\n",
    "    for i in range(len(date_data)-1):\n",
    "        result['prices'].append({'date':date_data[i], 'price':price_data[i]})\n",
    "    \n",
    "    #append it to the list\n",
    "    results['data'].append(result)\n",
    "\n",
    "print('Done')"
   ]
  },
  {
   "cell_type": "code",
   "execution_count": null,
   "id": "00867f71",
   "metadata": {},
   "outputs": [
    {
     "name": "stdout",
     "output_type": "stream",
     "text": [
      "{\n",
      "  \"fetch_date\": 1680104205,\n",
      "  \"data\": []\n",
      "}\n"
     ]
    }
   ],
   "source": [
    "#inspect final JSON\n",
    "json_object = json.dumps(results, indent = 2, ensure_ascii=False).encode('utf8')\n",
    "print(json_object.decode())"
   ]
  },
  {
   "cell_type": "code",
   "execution_count": null,
   "id": "670fa6ae",
   "metadata": {},
   "outputs": [],
   "source": [
    "#save final JSON to file\n",
    "with open(\"output_\"+str(productids[0])+\"_\"+str(productids[len(productids)-1])+\"_\"+str(results['fetch_date'])+\".json\", \"w\", encoding='utf-8') as outfile:\n",
    "    json.dump(results, outfile, ensure_ascii=False ,indent=2)"
   ]
  },
  {
   "cell_type": "code",
   "execution_count": null,
   "id": "9914ac07",
   "metadata": {},
   "outputs": [],
   "source": []
  }
 ],
 "metadata": {
  "kernelspec": {
   "display_name": "Python 3 (ipykernel)",
   "language": "python",
   "name": "python3"
  },
  "language_info": {
   "codemirror_mode": {
    "name": "ipython",
    "version": 3
   },
   "file_extension": ".py",
   "mimetype": "text/x-python",
   "name": "python",
   "nbconvert_exporter": "python",
   "pygments_lexer": "ipython3",
   "version": "3.11.2"
  }
 },
 "nbformat": 4,
 "nbformat_minor": 5
}
